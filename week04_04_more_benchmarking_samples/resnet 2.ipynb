{
 "cells": [
  {
   "cell_type": "code",
   "execution_count": 2,
   "metadata": {},
   "outputs": [],
   "source": [
    "#!/usr/bin/env python\n",
    "\n",
    "import numpy as np\n",
    "import os\n",
    "import time\n",
    "\n",
    "os.environ[\"KERAS_BACKEND\"] = \"plaidml.keras.backend\"\n",
    "\n",
    "import keras\n",
    "import keras.applications as kapp\n",
    "from keras.datasets import cifar10\n",
    "\n"
   ]
  },
  {
   "cell_type": "code",
   "execution_count": 30,
   "metadata": {},
   "outputs": [
    {
     "data": {
      "text/plain": [
       "(8, 299, 299, 3)"
      ]
     },
     "execution_count": 30,
     "metadata": {},
     "output_type": "execute_result"
    }
   ],
   "source": [
    "(x_train, y_train_cats), (x_test, y_test_cats) = cifar10.load_data()\n",
    "batch_size = 16\n",
    "x_train = x_train[:batch_size]\n",
    "x_train = np.repeat(np.repeat(x_train, 9, axis=1), 9, axis=2)\n",
    "x_train = np.pad(x_train, ((0,0),(5,6),(5,6),(0,0)),'constant')\n",
    "x_train.shape\n"
   ]
  },
  {
   "cell_type": "code",
   "execution_count": 31,
   "metadata": {},
   "outputs": [
    {
     "name": "stdout",
     "output_type": "stream",
     "text": [
      "Running initial batch (compiling tile program)\n"
     ]
    },
    {
     "name": "stderr",
     "output_type": "stream",
     "text": [
      "INFO:plaidml:Analyzing Ops: 1233 of 2461 operations complete\n"
     ]
    }
   ],
   "source": [
    "\n",
    "model = kapp.inception_resnet_v2.InceptionResNetV2()\n",
    "\n",
    "model.compile(optimizer='sgd', loss='categorical_crossentropy',\n",
    "              metrics=['accuracy'])\n",
    "\n",
    "print(\"Running initial batch (compiling tile program)\")\n",
    "\n",
    "y = model.predict(x=x_train, batch_size=batch_size)"
   ]
  },
  {
   "cell_type": "code",
   "execution_count": 33,
   "metadata": {},
   "outputs": [
    {
     "name": "stdout",
     "output_type": "stream",
     "text": [
      "Timing inference...\n",
      "Ran in 46.99437117576599 seconds\n"
     ]
    }
   ],
   "source": [
    "# Now start the clock and run 10 batches\n",
    "print(\"Timing inference...\")\n",
    "start = time.time()\n",
    "for i in range(100):\n",
    "    y = model.predict(x=x_train, batch_size=batch_size)\n",
    "print(\"Ran in {} seconds\".format(time.time() - start))"
   ]
  },
  {
   "cell_type": "code",
   "execution_count": null,
   "metadata": {},
   "outputs": [],
   "source": []
  }
 ],
 "metadata": {
  "kernelspec": {
   "display_name": "Python 3.7.6 64-bit ('plaidml-keras': conda)",
   "language": "python",
   "name": "python37664bitplaidmlkerasconda73079c9c15274e3097ad0f57e5adca91"
  },
  "language_info": {
   "codemirror_mode": {
    "name": "ipython",
    "version": 3
   },
   "file_extension": ".py",
   "mimetype": "text/x-python",
   "name": "python",
   "nbconvert_exporter": "python",
   "pygments_lexer": "ipython3",
   "version": "3.7.6"
  }
 },
 "nbformat": 4,
 "nbformat_minor": 4
}
